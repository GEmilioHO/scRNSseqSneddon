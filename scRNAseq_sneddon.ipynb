{
 "cells": [
  {
   "cell_type": "markdown",
   "id": "b1860d83",
   "metadata": {},
   "source": [
    "# Multiple Experiments & Batch scRNAseq Analysis - ScanPy & Scanorama\n",
    "Author: **Gabriel Emilio Herrera Oropeza** <br/>\n",
    "Date: October 27th, 2021"
   ]
  },
  {
   "cell_type": "markdown",
   "id": "73a5d5cd",
   "metadata": {},
   "source": [
    "### Import libraries"
   ]
  },
  {
   "cell_type": "code",
   "execution_count": null,
   "id": "d5057228",
   "metadata": {},
   "outputs": [],
   "source": [
    "import numpy as np\n",
    "import pandas as pd\n",
    "import scanpy as sc\n",
    "import scanorama\n",
    "import matplotlib.pyplot as plt\n",
    "import os\n",
    "\n",
    "sc.settings.verbosity = 3"
   ]
  },
  {
   "cell_type": "markdown",
   "id": "eaef1cbb",
   "metadata": {},
   "source": [
    "### Enter path"
   ]
  },
  {
   "cell_type": "code",
   "execution_count": null,
   "id": "0c4bb7d3",
   "metadata": {},
   "outputs": [],
   "source": [
    "path = \"/Volumes/emilio_passport/wellcome/rotations/spagnoli/data/GSE101099_RAW/\""
   ]
  },
  {
   "cell_type": "markdown",
   "id": "1a5c32c1",
   "metadata": {},
   "source": [
    "### Read files"
   ]
  },
  {
   "cell_type": "code",
   "execution_count": null,
   "id": "2a9dbeea",
   "metadata": {},
   "outputs": [],
   "source": [
    "data_e12b1 = sc.read_loom(f\"{path}E12_B1/velocyto/E12_B1.loom\")\n",
    "data_e12b1.var_names_make_unique()\n",
    "\n",
    "data_e12b2 = sc.read_loom(f\"{path}E12_B2/velocyto/E12_B2.loom\")\n",
    "data_e12b2.var_names_make_unique()\n",
    "\n",
    "data_e14b1 = sc.read_loom(f\"{path}E14_B1/velocyto/E14_B1.loom\")\n",
    "data_e14b1.var_names_make_unique()\n",
    "\n",
    "data_e14b2 = sc.read_loom(f\"{path}E14_B2/velocyto/E14_B2.loom\")\n",
    "data_e14b2.var_names_make_unique()\n",
    "\n",
    "data_e17b1 = sc.read_loom(f\"{path}E17_B1/velocyto/E17_B1.loom\")\n",
    "data_e17b1.var_names_make_unique()\n",
    "\n",
    "data_e17b2 = sc.read_loom(f\"{path}E17_B2/velocyto/E17_B2.loom\")\n",
    "data_e17b2.var_names_make_unique()"
   ]
  },
  {
   "cell_type": "code",
   "execution_count": null,
   "id": "b53b5cc9",
   "metadata": {},
   "outputs": [],
   "source": [
    "# Merge files but not yet integrate.\n",
    "adata = data_e12b1.concatenate(data_e12b2,\n",
    "                               data_e14b1,\n",
    "                               data_e14b2,\n",
    "                               data_e17b1,\n",
    "                               data_e17b2,\n",
    "                               batch_categories = [\n",
    "                                   \"E12_B1\",\n",
    "                                   \"E12_B2\",\n",
    "                                   \"E14_B1\",\n",
    "                                   \"E14_B2\",\n",
    "                                   \"E17_B1\",\n",
    "                                   \"E17_B2\"\n",
    "                               ]\n",
    "                               )\n",
    "\n",
    "del(data_e12b1, data_e12b2, data_e14b2, data_e17b1, data_e17b2)"
   ]
  },
  {
   "cell_type": "markdown",
   "id": "dc62141b",
   "metadata": {},
   "source": [
    "Summary of datasets."
   ]
  },
  {
   "cell_type": "code",
   "execution_count": null,
   "id": "ea6d3da7",
   "metadata": {},
   "outputs": [],
   "source": [
    "print(adata.obs['batch'].value_counts())"
   ]
  },
  {
   "cell_type": "markdown",
   "id": "3486421c",
   "metadata": {},
   "source": [
    "### Calculate quality control"
   ]
  },
  {
   "cell_type": "code",
   "execution_count": null,
   "id": "d217e856",
   "metadata": {},
   "outputs": [],
   "source": [
    "# mitochondrial genes\n",
    "adata.var['mt'] = adata.var_names.str.startswith('MT-') \n",
    "\n",
    "# ribosomal genes\n",
    "adata.var['ribo'] = adata.var_names.str.startswith((\"RPS\",\"RPL\"))\n",
    "\n",
    "# hemoglobin genes.\n",
    "adata.var['hb'] = adata.var_names.str.contains((\"^HB[^(P)]\"))"
   ]
  },
  {
   "cell_type": "code",
   "execution_count": null,
   "id": "7965c5b1",
   "metadata": {},
   "outputs": [],
   "source": [
    "sc.pp.calculate_qc_metrics(adata, qc_vars = ['mt','ribo','hb'], \n",
    "                           percent_top = None, \n",
    "                           log1p = False, \n",
    "                           inplace = True\n",
    "                          )"
   ]
  },
  {
   "cell_type": "code",
   "execution_count": null,
   "id": "7703375e",
   "metadata": {},
   "outputs": [],
   "source": [
    "mito_genes = adata.var_names.str.startswith('MT-')\n",
    "\n",
    "# For each cell compute fraction of counts in mito genes vs all genes\n",
    "adata.obs['percent_mt2'] = np.sum(adata[:, mito_genes].X, axis=1).A1 / np.sum(adata.X, axis=1).A1\n",
    "\n",
    "# Add the total counts per cell as observations-annotation to adata\n",
    "adata.obs['n_counts'] = adata.X.sum(axis=1).A1"
   ]
  },
  {
   "cell_type": "markdown",
   "id": "9f1bcd5c",
   "metadata": {},
   "source": [
    "Plot quality control:"
   ]
  },
  {
   "cell_type": "code",
   "execution_count": null,
   "id": "c22f55ce",
   "metadata": {},
   "outputs": [],
   "source": [
    "sc.pl.violin(adata, ['n_genes_by_counts', 'total_counts', 'pct_counts_mt','pct_counts_ribo', 'pct_counts_hb'],\n",
    "             jitter=0.4, groupby = 'batch', rotation = 45)"
   ]
  },
  {
   "cell_type": "code",
   "execution_count": null,
   "id": "dd9b01ee",
   "metadata": {},
   "outputs": [],
   "source": [
    "sc.pl.scatter(adata,\n",
    "              x = 'total_counts',\n",
    "              y = 'pct_counts_mt',\n",
    "              color = \"batch\"\n",
    "             )"
   ]
  },
  {
   "cell_type": "markdown",
   "id": "8aefa58e",
   "metadata": {},
   "source": [
    "### Filtering\n",
    "Filter cells with low amount of reads as well as genes that are present in at least a certain amount of cells."
   ]
  },
  {
   "cell_type": "code",
   "execution_count": null,
   "id": "d801fd51",
   "metadata": {},
   "outputs": [],
   "source": [
    "sc.pp.filter_cells(adata, min_genes = 200)\n",
    "sc.pp.filter_genes(adata, min_cells = 3)"
   ]
  },
  {
   "cell_type": "markdown",
   "id": "ad0d1acd",
   "metadata": {},
   "source": [
    "We can also see which genes contribute the most to such reads."
   ]
  },
  {
   "cell_type": "code",
   "execution_count": null,
   "id": "94cc386f",
   "metadata": {},
   "outputs": [],
   "source": [
    "sc.pl.highest_expr_genes(adata, n_top = 20)"
   ]
  },
  {
   "cell_type": "markdown",
   "id": "8639d27c",
   "metadata": {},
   "source": [
    "Mitochondrial genes and counts filtering."
   ]
  },
  {
   "cell_type": "code",
   "execution_count": null,
   "id": "018dd2c9",
   "metadata": {},
   "outputs": [],
   "source": [
    "adata = adata[adata.obs.n_genes_by_counts < 6000, :]\n",
    "adata = adata[adata.obs.pct_counts_mt < 0.3, :]"
   ]
  },
  {
   "cell_type": "markdown",
   "id": "2e7b7a98",
   "metadata": {},
   "source": [
    "### Normalise and Log1 data"
   ]
  },
  {
   "cell_type": "code",
   "execution_count": null,
   "id": "df94bbfb",
   "metadata": {},
   "outputs": [],
   "source": [
    "sc.pp.normalize_total(adata, target_sum = 1e4)"
   ]
  },
  {
   "cell_type": "code",
   "execution_count": null,
   "id": "bee3b0e6",
   "metadata": {},
   "outputs": [],
   "source": [
    "sc.pp.log1p(adata)"
   ]
  },
  {
   "cell_type": "markdown",
   "id": "ae9931fb",
   "metadata": {},
   "source": [
    "### Detect highly variable genes\n",
    "Variable genes can be detected across the full dataset, but then we run the risk of getting many batch-specific genes that will drive a lot of the variation. Or we can select variable genes from each batch separately to get only celltype variation."
   ]
  },
  {
   "cell_type": "markdown",
   "id": "d18e4020",
   "metadata": {},
   "source": [
    "Detect variable genes in each dataset separately using the batch_key parameter."
   ]
  },
  {
   "cell_type": "code",
   "execution_count": null,
   "id": "bc6a9500",
   "metadata": {},
   "outputs": [],
   "source": [
    "sc.pp.highly_variable_genes(adata, min_mean = 0.0125, max_mean = 3, n_top_genes = 5_000,\n",
    "                            min_disp = 0.5, batch_key = 'batch')\n",
    "\n",
    "print(f\"Highly variable genes intersection: {sum(adata.var.highly_variable_intersection)}\\n\")\n",
    "\n",
    "print(\"Number of batches where gene is variable:\")\n",
    "print(f\"{adata.var.highly_variable_nbatches.value_counts()}\\n\")\n",
    "\n",
    "var_genes_batch = adata.var.highly_variable_nbatches > 0"
   ]
  },
  {
   "cell_type": "markdown",
   "id": "15f176a6",
   "metadata": {},
   "source": [
    "Compare overlap of the variable genes."
   ]
  },
  {
   "cell_type": "code",
   "execution_count": null,
   "id": "278b0565",
   "metadata": {},
   "outputs": [],
   "source": [
    "print(f\"Any batch var genes: {sum(var_genes_batch)}\")\n",
    "print(f\"Variable genes in all batches: {sum(adata.var.highly_variable_nbatches == 6)}\")"
   ]
  },
  {
   "cell_type": "markdown",
   "id": "8df7a1bc",
   "metadata": {},
   "source": [
    "Select all genes that are variable in at least 2 datasets and use for remaining analysis."
   ]
  },
  {
   "cell_type": "code",
   "execution_count": null,
   "id": "514312dd",
   "metadata": {
    "scrolled": true
   },
   "outputs": [],
   "source": [
    "var_select = adata.var.highly_variable_nbatches > 2\n",
    "var_genes = var_select.index[var_select]\n",
    "len(var_genes)"
   ]
  },
  {
   "cell_type": "markdown",
   "id": "192d853a",
   "metadata": {},
   "source": [
    "### Data Integration and Correction"
   ]
  },
  {
   "cell_type": "code",
   "execution_count": null,
   "id": "3695e1bd",
   "metadata": {},
   "outputs": [],
   "source": [
    "# Split per batch into new objects.\n",
    "batches = adata.obs['batch'].cat.categories.tolist()\n",
    "alldata = {}\n",
    "for batch in batches:\n",
    "    alldata[batch] = adata[adata.obs['batch'] == batch][:,var_genes]"
   ]
  },
  {
   "cell_type": "code",
   "execution_count": null,
   "id": "a0c4b3c0",
   "metadata": {},
   "outputs": [],
   "source": [
    "# Convert to list of AnnData objects\n",
    "adatas = list(alldata.values())"
   ]
  },
  {
   "cell_type": "markdown",
   "id": "d9e185f1",
   "metadata": {},
   "source": [
    "Scanorama correction and integration:"
   ]
  },
  {
   "cell_type": "code",
   "execution_count": null,
   "id": "2cd1d0f8",
   "metadata": {},
   "outputs": [],
   "source": [
    "corrected = scanorama.correct_scanpy(adatas, \n",
    "                                     return_dimred = True # Data is dimensionally reduced too, NO PCA required later\n",
    "                                    )"
   ]
  },
  {
   "cell_type": "code",
   "execution_count": null,
   "id": "d0ba5c4e",
   "metadata": {},
   "outputs": [],
   "source": [
    "# Add layers to data\n",
    "for n, a in enumerate(adatas):\n",
    "    for l in a.layers:\n",
    "        corrected[n].layers[l] = a.layers[l]"
   ]
  },
  {
   "cell_type": "markdown",
   "id": "e0d03076",
   "metadata": {},
   "source": [
    "Merge adatas again."
   ]
  },
  {
   "cell_type": "code",
   "execution_count": null,
   "id": "e15e7711",
   "metadata": {},
   "outputs": [],
   "source": [
    "adata_corr = corrected[0].concatenate(*corrected[1:],\n",
    "                                      batch_categories = [\n",
    "                                          \"E12_B1\",\n",
    "                                          \"E12_B2\",\n",
    "                                          \"E14_B1\",\n",
    "                                          \"E14_B2\",\n",
    "                                          \"E17_B1\",\n",
    "                                          \"E17_B2\"\n",
    "                                      ]\n",
    "                                     )"
   ]
  },
  {
   "cell_type": "markdown",
   "id": "40d1f067",
   "metadata": {},
   "source": [
    "Save raw data (to have data of ALL genes)."
   ]
  },
  {
   "cell_type": "code",
   "execution_count": null,
   "id": "f7f2ad34",
   "metadata": {},
   "outputs": [],
   "source": [
    "adata_corr.raw = adata\n",
    "del(adata, corrected)"
   ]
  },
  {
   "cell_type": "markdown",
   "id": "766e0a10",
   "metadata": {},
   "source": [
    "Scale data:"
   ]
  },
  {
   "cell_type": "code",
   "execution_count": null,
   "id": "971f9813",
   "metadata": {},
   "outputs": [],
   "source": [
    "sc.pp.scale(adata_corr, max_value = 10)"
   ]
  },
  {
   "cell_type": "markdown",
   "id": "d150dd75",
   "metadata": {},
   "source": [
    "### Dimension reduction - UMAP"
   ]
  },
  {
   "cell_type": "markdown",
   "id": "e7c82e01",
   "metadata": {},
   "source": [
    "Calculate neighbours:"
   ]
  },
  {
   "cell_type": "code",
   "execution_count": null,
   "id": "d95cc53e",
   "metadata": {},
   "outputs": [],
   "source": [
    "sc.pp.neighbors(adata_corr, n_neighbors = 15, n_pcs = 50, \n",
    "                use_rep = \"X_scanorama\")"
   ]
  },
  {
   "cell_type": "code",
   "execution_count": null,
   "id": "de2db10d",
   "metadata": {},
   "outputs": [],
   "source": [
    "sc.tl.umap(adata_corr)"
   ]
  },
  {
   "cell_type": "markdown",
   "id": "5ee93fe0",
   "metadata": {},
   "source": [
    "Show batch location:"
   ]
  },
  {
   "cell_type": "code",
   "execution_count": null,
   "id": "c4ef084f",
   "metadata": {},
   "outputs": [],
   "source": [
    "fig, ax = plt.subplots(figsize = (10,8))\n",
    "sc.pl.umap(adata_corr, color = 'batch', ax = ax, size = 20,\n",
    "          alpha = 0.6)\n",
    "fig.tight_layout()\n",
    "fig.savefig(\"/Volumes/emilio_passport/wellcome/rotations/spagnoli/figures/scData/corrected/umap_batches.pdf\")\n",
    "plt.show()"
   ]
  },
  {
   "cell_type": "markdown",
   "id": "76134a41",
   "metadata": {},
   "source": [
    "Show marker genes:"
   ]
  },
  {
   "cell_type": "code",
   "execution_count": null,
   "id": "645b5523",
   "metadata": {},
   "outputs": [],
   "source": [
    "marker_genes = [\"Cdh1\", \"Krt19\", \"Chga\", \"Vim\", \"Col3a1\", \"Pecam1\", \"Rac2\"]\n",
    "\n",
    "for gene in marker_genes:\n",
    "    fig, ax = plt.subplots(figsize = (10,8))\n",
    "    sc.pl.umap(adata_corr, \n",
    "               color = gene, \n",
    "               ax = ax, \n",
    "               size = 20,\n",
    "               alpha = 0.6\n",
    "              )\n",
    "    fig.tight_layout()\n",
    "    fig.savefig(f\"/Volumes/emilio_passport/wellcome/rotations/spagnoli/figures/scData/corrected/umap_{gene}.pdf\")\n",
    "    plt.show()"
   ]
  },
  {
   "cell_type": "markdown",
   "id": "849b4095",
   "metadata": {},
   "source": [
    "Find clusters:"
   ]
  },
  {
   "cell_type": "code",
   "execution_count": null,
   "id": "ebcf7784",
   "metadata": {},
   "outputs": [],
   "source": [
    "sc.tl.louvain(adata_corr, resolution = 0.3)"
   ]
  },
  {
   "cell_type": "markdown",
   "id": "3115bd76",
   "metadata": {},
   "source": [
    "Plot clusters:"
   ]
  },
  {
   "cell_type": "code",
   "execution_count": null,
   "id": "96669aba",
   "metadata": {},
   "outputs": [],
   "source": [
    "fig, ax = plt.subplots(figsize = (10,8))\n",
    "sc.pl.umap(adata_corr, color = \"louvain\", ax = ax, size = 20,\n",
    "          alpha = 0.6)\n",
    "fig.tight_layout()\n",
    "fig.savefig(\"/Volumes/emilio_passport/wellcome/rotations/spagnoli/figures/scData/corrected/louvain_clusters_identified.pdf\")\n",
    "plt.show()"
   ]
  },
  {
   "cell_type": "markdown",
   "id": "8f6eb630",
   "metadata": {},
   "source": [
    "Identify clusters based on marker genes:"
   ]
  },
  {
   "cell_type": "code",
   "execution_count": null,
   "id": "76667a19",
   "metadata": {},
   "outputs": [],
   "source": [
    "adata_corr.obs[\"louvain\"].cat.categories = ['Mesenchymal', 'Epithelial', 'Mesothelial', 'Endocrine', 'Immune', \n",
    "                                            '5', '6', '7', 'Endothelial']"
   ]
  },
  {
   "cell_type": "markdown",
   "id": "6d90ae69",
   "metadata": {},
   "source": [
    "Measure differential expression among clusters:"
   ]
  },
  {
   "cell_type": "code",
   "execution_count": null,
   "id": "ed89612f",
   "metadata": {},
   "outputs": [],
   "source": [
    "sc.tl.rank_genes_groups(adata_corr, 'louvain', method = 'wilcoxon')"
   ]
  },
  {
   "cell_type": "markdown",
   "id": "b97146ce",
   "metadata": {},
   "source": [
    "Plot differential expression among clusters:"
   ]
  },
  {
   "cell_type": "code",
   "execution_count": null,
   "id": "d7091287",
   "metadata": {},
   "outputs": [],
   "source": [
    "sc.pl.rank_genes_groups(adata_corr, n_genes = 25, sharey = False, ax = ax, \n",
    "                        save = \"cluster_geneComp_corr.pdf\")"
   ]
  },
  {
   "cell_type": "code",
   "execution_count": null,
   "id": "5a434d68",
   "metadata": {},
   "outputs": [],
   "source": [
    "sc.pl.rank_genes_groups_dotplot(adata_corr, n_genes=5, groupby=\"louvain\",\n",
    "                                save = \"cluster_geneComp_dotplot_corr.pdf\"\n",
    "                               )"
   ]
  },
  {
   "cell_type": "markdown",
   "id": "d379da90",
   "metadata": {},
   "source": [
    "### Save analysed AnnData"
   ]
  },
  {
   "cell_type": "code",
   "execution_count": null,
   "id": "4c22394f",
   "metadata": {},
   "outputs": [],
   "source": [
    "adata_corr.write('/Volumes/emilio_passport/wellcome/rotations/spagnoli/data/scData/corrected/Sneddon_corrected.h5ad')"
   ]
  },
  {
   "cell_type": "code",
   "execution_count": null,
   "id": "1e038457",
   "metadata": {},
   "outputs": [],
   "source": []
  }
 ],
 "metadata": {
  "kernelspec": {
   "display_name": "Python 3 (ipykernel)",
   "language": "python",
   "name": "python3"
  },
  "language_info": {
   "codemirror_mode": {
    "name": "ipython",
    "version": 3
   },
   "file_extension": ".py",
   "mimetype": "text/x-python",
   "name": "python",
   "nbconvert_exporter": "python",
   "pygments_lexer": "ipython3",
   "version": "3.8.6"
  }
 },
 "nbformat": 4,
 "nbformat_minor": 5
}
